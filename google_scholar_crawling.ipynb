{
 "cells": [
  {
   "cell_type": "code",
   "execution_count": null,
   "metadata": {},
   "outputs": [],
   "source": [
    "import requests\n",
    "from bs4 import BeautifulSoup\n",
    "import pandas as pd\n",
    "from datetime import datetime\n",
    "import re\n",
    "import time"
   ]
  },
  {
   "cell_type": "code",
   "execution_count": null,
   "metadata": {},
   "outputs": [],
   "source": [
    "## progress bar definition\n",
    "\n",
    "def print_progressbar(total, i):\n",
    "    \"\"\"\n",
    "    total : total iteration number.\n",
    "    i : iteration count, starting from 0.\n",
    "    \"\"\"\n",
    "    import math\n",
    "    step = 25 / total\n",
    "\n",
    "    # Print the progress bar\n",
    "    print('\\r' + f'Progress: '\n",
    "        f\"[{'=' * int((i+1) * step) + ' ' * (25 - int((i+1) * step))}]\"\n",
    "        f\"({math.floor((i+1) * 100 / (total))} %) ({i+1}/{total})\",\n",
    "        end='')\n",
    "    if (i+1) == total: print(\"\")"
   ]
  },
  {
   "cell_type": "markdown",
   "metadata": {},
   "source": [
    "## target journal"
   ]
  },
  {
   "cell_type": "code",
   "execution_count": null,
   "metadata": {},
   "outputs": [],
   "source": [
    "# target journal\n",
    "\n",
    "url = \"https://scholar.google.co.kr/scholar?hl=ko&as_sdt=0%2C5&q=crohn%27s+disease+early+surgery+prediction&btnG=&oq=crohn\"\n",
    "url = url.replace(f'hl=ko&',f'start=0&')"
   ]
  },
  {
   "cell_type": "code",
   "execution_count": null,
   "metadata": {},
   "outputs": [],
   "source": [
    "# null dataframe build\n",
    "df = pd.DataFrame(columns=['name', 'author', 'Journal' ,'year', 'info'])\n",
    "\n",
    "\n",
    "# number of article\n",
    "num_article = 10\n",
    "\n",
    "for i in range(0,num_article):\n",
    "    html = url\n",
    "    req_info = requests.get(html)\n",
    "    \n",
    "    ## page information read using BeautifulSoup\n",
    "    soup = BeautifulSoup(req_info.content,\"html.parser\")\n",
    "    time.sleep(5)\n",
    "    \n",
    "    article = soup.find(\"div\").find(\"div\", {'id': 'gs_res_ccl'}).find(\"div\", {'id': 'gs_res_ccl_mid'}).find_all(\"div\", {'class': 'gs_r gs_or gs_scl'})[0]\n",
    "    \n",
    "    ## article name\n",
    "    \n",
    "    name = article.find(\"div\",{'class':'gs_ri'}).find(\"h3\").text\n",
    "    \n",
    "    ## author, Journal, time\n",
    "    author_time = article.find(\"div\",{'class':'gs_ri'}).find(\"div\",{'class':'gs_a'}).text\n",
    "    author = author_time.split(\"\\xa0-\")[0].split(\",\")[0:2]\n",
    "    \n",
    "    if '\\xa0' in author_time:\n",
    "        Journal = author_time.split(\"\\xa0-\")[-1].split(\",\")[0]\n",
    "    else:\n",
    "        Journal = \"None\"\n",
    "    \n",
    "    year = re.findall(\"\\d+\",author_time)[0]\n",
    "    \n",
    "    ## article info\n",
    "    if article.find_all(\"div\",{'class':\"gs_fl\"})[0].text[0]=='[' :\n",
    "        info = article.find_all(\"div\",{'class':\"gs_fl\"})[1].text.strip()\n",
    "    else:\n",
    "        info = article.find(\"div\",{'class':\"gs_fl\"}).text.strip()\n",
    "    \n",
    "    \n",
    "\n",
    "    df = df.append({\n",
    "    'name' : name,\n",
    "    'author' : author,\n",
    "    'Journal' : Journal,\n",
    "    'year' : year,\n",
    "    'info' : info,\n",
    "    }, ignore_index=True)\n",
    "    \n",
    "    url = url.replace(f'{i}&',f'{i+1}&')\n",
    "    print_progressbar(num_article, i)\n",
    "    time.sleep(5)\n",
    "\n",
    "\n",
    "# dataframe save\n",
    "\n",
    "df_filename = \"crawling_result\"\n",
    "\n",
    "df.to_csv(df_filename, encoding='utf-8-sig', index=False)"
   ]
  },
  {
   "cell_type": "code",
   "execution_count": null,
   "metadata": {},
   "outputs": [],
   "source": []
  },
  {
   "cell_type": "code",
   "execution_count": null,
   "metadata": {},
   "outputs": [],
   "source": []
  },
  {
   "cell_type": "code",
   "execution_count": null,
   "metadata": {},
   "outputs": [],
   "source": []
  },
  {
   "cell_type": "code",
   "execution_count": null,
   "metadata": {},
   "outputs": [],
   "source": []
  },
  {
   "cell_type": "code",
   "execution_count": null,
   "metadata": {},
   "outputs": [],
   "source": []
  }
 ],
 "metadata": {
  "kernelspec": {
   "display_name": "ML",
   "language": "python",
   "name": "ml"
  },
  "language_info": {
   "codemirror_mode": {
    "name": "ipython",
    "version": 3
   },
   "file_extension": ".py",
   "mimetype": "text/x-python",
   "name": "python",
   "nbconvert_exporter": "python",
   "pygments_lexer": "ipython3",
   "version": "3.7.3"
  }
 },
 "nbformat": 4,
 "nbformat_minor": 2
}
